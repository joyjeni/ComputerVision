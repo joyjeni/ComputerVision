{
  "nbformat": 4,
  "nbformat_minor": 0,
  "metadata": {
    "colab": {
      "name": "advanced_convolutions.ipynb",
      "private_outputs": true,
      "provenance": []
    },
    "kernelspec": {
      "name": "python3",
      "display_name": "Python 3"
    },
    "language_info": {
      "name": "python"
    },
    "accelerator": "GPU"
  },
  "cells": [
    {
      "cell_type": "code",
      "metadata": {
        "id": "jCa86viWMbo6"
      },
      "source": [
        "from google.colab import drive\n",
        "\n",
        "drive.mount('/content/drive')"
      ],
      "execution_count": null,
      "outputs": []
    },
    {
      "cell_type": "code",
      "metadata": {
        "id": "YQ3mo9eOMdSS"
      },
      "source": [
        "!pwd"
      ],
      "execution_count": null,
      "outputs": []
    },
    {
      "cell_type": "code",
      "metadata": {
        "id": "Ej5-Kf6iNVks"
      },
      "source": [
        "import os\n",
        "\n",
        "path = '/content/drive/MyDrive/EVA6/s7_depthwise_cifar10/'"
      ],
      "execution_count": null,
      "outputs": []
    },
    {
      "cell_type": "code",
      "metadata": {
        "id": "UtUDDqAtNVpX"
      },
      "source": [
        "% cd $path"
      ],
      "execution_count": null,
      "outputs": []
    },
    {
      "cell_type": "code",
      "metadata": {
        "id": "uJ66Gkd-Nv7O"
      },
      "source": [
        "WORKING_DIR=\"ComputerVision\""
      ],
      "execution_count": null,
      "outputs": []
    },
    {
      "cell_type": "code",
      "metadata": {
        "id": "4e4BSxnFR6xJ"
      },
      "source": [
        "!if [ -d \"$WORKING_DIR\" ]; then rm -Rf $WORKING_DIR; fi"
      ],
      "execution_count": null,
      "outputs": []
    },
    {
      "cell_type": "code",
      "metadata": {
        "id": "affAINtdMGrk"
      },
      "source": [
        "!git clone https://github.com/joyjeni/ComputerVision/"
      ],
      "execution_count": null,
      "outputs": []
    },
    {
      "cell_type": "code",
      "metadata": {
        "id": "4kl9y8JCPCNg"
      },
      "source": [
        ""
      ],
      "execution_count": null,
      "outputs": []
    },
    {
      "cell_type": "code",
      "metadata": {
        "id": "ZgPuwYX0MdVy"
      },
      "source": [
        "%cd ComputerVision/s7_cifar10_Depthwise_Separable_Conv/Pybeam"
      ],
      "execution_count": null,
      "outputs": []
    },
    {
      "cell_type": "code",
      "metadata": {
        "id": "UGU5R7EfQE7k"
      },
      "source": [
        ""
      ],
      "execution_count": null,
      "outputs": []
    },
    {
      "cell_type": "markdown",
      "metadata": {
        "id": "OJTL6oQUP32X"
      },
      "source": [
        "#### Run the CIFAR10 Model for 50 Epochs"
      ]
    },
    {
      "cell_type": "code",
      "metadata": {
        "id": "0dP4c9V1P3JP"
      },
      "source": [
        "!python main.py --config=experiments/cifar10_config.yml --device=0"
      ],
      "execution_count": null,
      "outputs": []
    },
    {
      "cell_type": "code",
      "metadata": {
        "id": "E99FUEepcPsR"
      },
      "source": [
        "from __future__ import print_function\n",
        "import torch\n",
        "import torch.nn as nn\n",
        "import torch.nn.functional as F\n",
        "import torch.optim as optim\n",
        "from torchvision import datasets, transforms"
      ],
      "execution_count": null,
      "outputs": []
    },
    {
      "cell_type": "code",
      "metadata": {
        "id": "P96nT9u9PJxr"
      },
      "source": [
        "class CIFAR10Model(nn.Module):\n",
        "\n",
        "    def __init__(self, dropout_value=0.25):\n",
        "\n",
        "        self.dropout_value = dropout_value  # dropout value\n",
        "\n",
        "        super(CIFAR10Model, self).__init__()\n",
        "\n",
        "        # Input Block\n",
        "        self.convblock1 = nn.Sequential(\n",
        "            nn.Conv2d(in_channels=3, out_channels=32,\n",
        "                      kernel_size=(3, 3), padding=1, bias=False),\n",
        "            nn.BatchNorm2d(32),\n",
        "            nn.ReLU(),\n",
        "            nn.Dropout(self.dropout_value)\n",
        "        )  # output_size = 32\n",
        "\n",
        "        # CONVOLUTION BLOCK 1\n",
        "        self.convblock2 = nn.Sequential(\n",
        "            nn.Conv2d(in_channels=32, out_channels=64,\n",
        "                      kernel_size=(3, 3), padding=1, bias=False),\n",
        "            nn.BatchNorm2d(64),\n",
        "            nn.ReLU(),\n",
        "            nn.Dropout(self.dropout_value)\n",
        "        )  # output_size = 32\n",
        "\n",
        "        # TRANSITION BLOCK 1\n",
        "        self.convblock3 = nn.Sequential(\n",
        "            nn.Conv2d(in_channels=64, out_channels=32,\n",
        "                      kernel_size=(1, 1), padding=0, bias=False,stride=2),\n",
        "        )  # output_size = 32\n",
        "        #self.pool1 = nn.MaxPool2d(2, 2)  # output_size = 16\n",
        "\n",
        "        # CONVOLUTION BLOCK 2\n",
        "        # DEPTHWISE CONVOLUTION AND POINTWISE CONVOLUTION\n",
        "        self.depthwise1 = nn.Sequential(\n",
        "            nn.Conv2d(in_channels=32, out_channels=64,\n",
        "                      kernel_size=(3, 3), padding=0, groups=32, bias=False),\n",
        "            nn.BatchNorm2d(64),\n",
        "            nn.ReLU(),\n",
        "            nn.Dropout(self.dropout_value)\n",
        "        )  # output_size = 16\n",
        "        self.convblock4 = nn.Sequential(\n",
        "            nn.Conv2d(in_channels=64, out_channels=128,\n",
        "                      kernel_size=(1, 1), padding=0, bias=False,stride=2),\n",
        "            nn.BatchNorm2d(128),\n",
        "            nn.ReLU(),\n",
        "            nn.Dropout(self.dropout_value)\n",
        "        )  # output_size = 16\n",
        "\n",
        "        # TRANSITION BLOCK 2\n",
        "       # self.pool2 = nn.MaxPool2d(2, 2)  # output_size = 8\n",
        "\n",
        "        # CONVOLUTION BLOCK 3\n",
        "        self.convblock5 = nn.Sequential(\n",
        "            nn.Conv2d(in_channels=128, out_channels=128,\n",
        "                      kernel_size=(3, 3), padding=4, dilation=2, bias=False),\n",
        "            nn.BatchNorm2d(128),\n",
        "            nn.ReLU(),\n",
        "            nn.Dropout(self.dropout_value)\n",
        "        )  # output_size = 11\n",
        "        self.convblock6 = nn.Sequential(\n",
        "            nn.Conv2d(in_channels=128, out_channels=128,\n",
        "                      kernel_size=(3, 3), padding=1, bias=False,stride=2),\n",
        "            nn.BatchNorm2d(128),\n",
        "            nn.ReLU(),\n",
        "            nn.Dropout(self.dropout_value)\n",
        "        )  # output_size = 11\n",
        "\n",
        "        # TRANSITION BLOCK 3\n",
        "        #self.pool3 = nn.MaxPool2d(2, 2)  # output_size = 5\n",
        "\n",
        "        # OUTPUT BLOCK\n",
        "        self.gap = nn.Sequential(\n",
        "            nn.AvgPool2d(kernel_size=5)\n",
        "        )  # output_size = 1\n",
        "\n",
        "        self.convblock7 = nn.Sequential(\n",
        "            nn.Conv2d(in_channels=128, out_channels=128,\n",
        "                      kernel_size=(1, 1), padding=0, bias=False),\n",
        "            nn.ReLU(),\n",
        "            nn.BatchNorm2d(128),\n",
        "            nn.Dropout(self.dropout_value)\n",
        "        )\n",
        "\n",
        "        self.convblock8 = nn.Sequential(\n",
        "            nn.Conv2d(in_channels=128, out_channels=10,\n",
        "                      kernel_size=(1, 1), padding=0, bias=False),\n",
        "        )\n",
        "\n",
        "        self.dropout = nn.Dropout(self.dropout_value)\n",
        "\n",
        "    def forward(self, x):\n",
        "        x = self.convblock1(x)\n",
        "        x = self.convblock2(x)\n",
        "        x = self.convblock3(x)\n",
        "\n",
        "        x = self.depthwise1(x)\n",
        "        x = self.convblock4(x)\n",
        "\n",
        "        x = self.convblock5(x)\n",
        "        x = self.convblock6(x)\n",
        "\n",
        "        x = self.gap(x)\n",
        "        x = self.convblock7(x)\n",
        "        x = self.convblock8(x)\n",
        "\n",
        "        x = x.view(-1, 10)\n",
        "        return F.log_softmax(x, dim=-1)"
      ],
      "execution_count": null,
      "outputs": []
    },
    {
      "cell_type": "code",
      "metadata": {
        "id": "8_UTFuo3PKjl"
      },
      "source": [
        "!pip install torchsummary\n",
        "from torchsummary import summary\n",
        "use_cuda = torch.cuda.is_available()\n",
        "device = torch.device(\"cuda\" if use_cuda else \"cpu\")\n",
        "print(device)\n",
        "model = CIFAR10Model().to(device)\n",
        "summary(model, input_size=(3, 32, 32))"
      ],
      "execution_count": null,
      "outputs": []
    }
  ]
}