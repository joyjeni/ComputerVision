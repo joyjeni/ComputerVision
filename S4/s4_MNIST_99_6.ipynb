{
  "nbformat": 4,
  "nbformat_minor": 0,
  "metadata": {
    "colab": {
      "name": "s4_MNIST_99_6.ipynb",
      "provenance": [],
      "collapsed_sections": []
    },
    "kernelspec": {
      "name": "python3",
      "display_name": "Python 3"
    },
    "accelerator": "GPU"
  },
  "cells": [
    {
      "cell_type": "code",
      "metadata": {
        "id": "0m2JWFliFfKT"
      },
      "source": [
        "from __future__ import print_function\n",
        "import torch\n",
        "import torch.nn as nn\n",
        "import torch.nn.functional as F\n",
        "import torch.optim as optim\n",
        "import torchvision\n",
        "\n",
        "import torchvision.transforms as transforms\n",
        "\n",
        "import matplotlib.pyplot as plt\n",
        "import numpy as np\n",
        "\n",
        "import time\n",
        "import copy"
      ],
      "execution_count": 1,
      "outputs": []
    },
    {
      "cell_type": "code",
      "metadata": {
        "id": "xdydjYTZFyi3",
        "colab": {
          "base_uri": "https://localhost:8080/"
        },
        "outputId": "0970f500-c1b7-4c76-ffa1-ead4dd3a5887"
      },
      "source": [
        "!pip install torchsummary\n",
        "from torchsummary import summary\n",
        "use_cuda = torch.cuda.is_available()\n",
        "device = torch.device(\"cuda\" if use_cuda else \"cpu\")\n",
        "device\n",
        "\n",
        "\n",
        "kwargs = {'num_workers': 1, 'pin_memory': True} if use_cuda else {}"
      ],
      "execution_count": 2,
      "outputs": [
        {
          "output_type": "stream",
          "text": [
            "Requirement already satisfied: torchsummary in /usr/local/lib/python3.7/dist-packages (1.5.1)\n"
          ],
          "name": "stdout"
        }
      ]
    },
    {
      "cell_type": "markdown",
      "metadata": {
        "id": "OkCm3zoyfLs5"
      },
      "source": [
        "### 1. Load Dataset"
      ]
    },
    {
      "cell_type": "code",
      "metadata": {
        "id": "DqTWLaM5GHgH"
      },
      "source": [
        "\n",
        "\n",
        "torch.manual_seed(1)\n",
        "batch_size = 128\n",
        "\n",
        "mnist = torchvision.datasets.MNIST('./var', download=True)\n",
        "train_transform = transforms.Compose(\n",
        "                    [\n",
        "                    \n",
        "#                   transforms.RandomRotation(5),\n",
        "                    transforms.RandomAffine(degrees=20, translate=(0.1,0.1), scale=(0.9, 1.1)),\n",
        "                    transforms.ColorJitter(brightness=0.2, contrast=0.2),\n",
        "                    transforms.ToTensor(),\n",
        "                    transforms.Normalize(mean=[0.1310], std=[0.3085]),\n",
        "                    \n",
        "                    ])\n",
        "test_transform=  transforms.Compose(\n",
        "                    [\n",
        "                   \n",
        "                    torchvision.transforms.ToTensor(),\n",
        "                    transforms.Normalize(mean=[0.1310], std=[0.3085]),\n",
        "                    ])\n",
        "\n",
        "train = torchvision.datasets.MNIST('./var', train=True, transform=train_transform)\n",
        "train_loader = torch.utils.data.DataLoader(train, batch_size=batch_size, shuffle=True)\n",
        "test = torchvision.datasets.MNIST('./var', train=False, transform=test_transform)\n",
        "test_loader = torch.utils.data.DataLoader(test, batch_size=len(test), shuffle=True)\n",
        "\n"
      ],
      "execution_count": 3,
      "outputs": []
    },
    {
      "cell_type": "markdown",
      "metadata": {
        "id": "sv7j2u4MfHa7"
      },
      "source": [
        "### 2. Visualize loaded data"
      ]
    },
    {
      "cell_type": "code",
      "metadata": {
        "colab": {
          "base_uri": "https://localhost:8080/",
          "height": 248
        },
        "id": "8Ue-OzCSfHHS",
        "outputId": "423791d6-30d7-4d72-a2e7-bd6c8da54beb"
      },
      "source": [
        "for inputs, outputs in train_loader:\n",
        "    #slice out one channel\n",
        "    image = inputs[0][0]\n",
        "    plt.imshow(image.numpy(), cmap=plt.get_cmap('binary'))\n",
        "    plt.axis('off')\n",
        "    break"
      ],
      "execution_count": 4,
      "outputs": [
        {
          "output_type": "display_data",
          "data": {
            "image/png": "[encoded data removed]",
            "text/plain": [
              "<Figure size 432x288 with 1 Axes>"
            ]
          },
          "metadata": {
            "tags": [],
            "needs_background": "light"
          }
        }
      ]
    },
    {
      "cell_type": "markdown",
      "metadata": {
        "id": "tppt-8Z8fdWo"
      },
      "source": [
        "### 3. Train CNN"
      ]
    },
    {
      "cell_type": "code",
      "metadata": {
        "id": "h_Cx9q2QFgM7"
      },
      "source": [
        "class Model(nn.Module):\n",
        "    def __init__(self):\n",
        "        super(Model, self).__init__()\n",
        "        \n",
        "        self.conv1 = nn.Sequential(\n",
        "            nn.Conv2d(1, 32, 3, padding=1),\n",
        "            nn.ReLU(),\n",
        "            nn.BatchNorm2d(32),\n",
        "            nn.Conv2d(32, 32, 3, padding=1),\n",
        "            nn.ReLU(),\n",
        "            nn.BatchNorm2d(32),\n",
        "            nn.Conv2d(32, 32, 3, stride=2, padding=1),\n",
        "            nn.ReLU(),\n",
        "            nn.BatchNorm2d(32),\n",
        "            nn.MaxPool2d(2, 2),\n",
        "            nn.Dropout(0.069)\n",
        "        )\n",
        "        \n",
        "        self.conv2 = nn.Sequential(\n",
        "            nn.Conv2d(32, 64, 3, padding=1),\n",
        "            nn.ReLU(),\n",
        "            nn.BatchNorm2d(64),\n",
        "            nn.Conv2d(64, 64, 3, padding=1),\n",
        "            nn.ReLU(),\n",
        "            nn.BatchNorm2d(64),\n",
        "            nn.Conv2d(64, 64, 3, stride=2, padding=1),\n",
        "            nn.ReLU(),\n",
        "            nn.BatchNorm2d(64),\n",
        "            nn.MaxPool2d(2, 2),\n",
        "            nn.Dropout(0.069)\n",
        "        )\n",
        "        \n",
        "        self.conv3 = nn.Sequential(\n",
        "            nn.Conv2d(64, 128, 3, padding=1),\n",
        "            nn.ReLU(),\n",
        "            nn.BatchNorm2d(128),\n",
        "            nn.MaxPool2d(2, 2),\n",
        "            nn.Dropout(0.069)\n",
        "        )\n",
        "       \n",
        "        self.fc = nn.Sequential(\n",
        "            \n",
        "            nn.Linear(128, 10)\n",
        "        )\n",
        "\n",
        "            \n",
        "        \n",
        "     \n",
        "                \n",
        "        \n",
        "    def forward(self, x):\n",
        "        x = self.conv1(x)\n",
        "        self.after_conv1 = x\n",
        "        x = self.conv2(x)\n",
        "        self.after_conv2 = x\n",
        "        \n",
        "        x = self.conv3(x)\n",
        "        self.after_conv3=x\n",
        "        \n",
        "        x = x.view(x.size(0), -1)\n",
        "        \n",
        "        x = self.fc(x)\n",
        "       # x=F.adaptive_avg_pool2d(x,(10,10))\n",
        "        \n",
        "        x = F.log_softmax(x, dim=1)\n",
        "        return x"
      ],
      "execution_count": 5,
      "outputs": []
    },
    {
      "cell_type": "code",
      "metadata": {
        "id": "8fDefDhaFlwH"
      },
      "source": [
        "from tqdm import tqdm\n",
        "def train(model, device, train_loader, optimizer, epoch):\n",
        "    running_loss = 0\n",
        "    accuracy=0\n",
        "    model.train()\n",
        "    pbar = tqdm(train_loader)\n",
        "    for batch_idx, (images, labels) in enumerate(pbar):\n",
        "        images, labels = images.to(device), labels.to(device)\n",
        "        optimizer.zero_grad()\n",
        "        log_ps = model(images)\n",
        "        \n",
        "        ps = torch.exp(log_ps)                \n",
        "        top_p, top_class = ps.topk(1, dim=1)\n",
        "        equals = top_class == labels.view(*top_class.shape)\n",
        "        accuracy += torch.mean(equals.type(torch.FloatTensor))\n",
        "\n",
        "        loss = loss_function(log_ps, labels)\n",
        "        loss.backward()\n",
        "        optimizer.step()\n",
        "        pbar.set_description(desc= f'loss={loss.item()} batch_id={batch_idx}')\n",
        "       # record training loss and error, then evaluate using validation data\n",
        "    train_losses.append(running_loss/len(train_loader))\n",
        "    train_accu.append(accuracy/len(train_loader))    \n",
        "\n",
        "    \n",
        "\n",
        "def test(model, device, test_loader):\n",
        "    model.eval()\n",
        "    test_loss = 0\n",
        "    correct = 0\n",
        "    accuracy=0\n",
        "    with torch.no_grad():\n",
        "        for images, labels in test_loader:\n",
        "            images, labels = images.to(device), labels.to(device)\n",
        "            log_ps = model(images)\n",
        "            test_loss += loss_function(log_ps, labels)  # sum up batch loss\n",
        "            pred = log_ps.argmax(dim=1, keepdim=True)  # get the index of the max log-probability\n",
        "            correct += pred.eq(labels.view_as(pred)).sum().item()\n",
        "\n",
        "            ps = torch.exp(log_ps)\n",
        "            top_p, top_class = ps.topk(1, dim=1)\n",
        "            equals = top_class == labels.view(*top_class.shape)\n",
        "            accuracy += torch.mean(equals.type(torch.FloatTensor))     \n",
        "\n",
        "\n",
        "\n",
        "          \n",
        "\n",
        "    test_loss /= len(test_loader.dataset)\n",
        "    test_losses.append(test_loss/len(test_loader))\n",
        "    test_accu.append(accuracy/len(test_loader))  \n",
        "\n",
        " \n",
        "    \n",
        "\n",
        "    \n",
        "\n",
        "def display_train(model,device,train_loader):\n",
        "\n",
        "  for images, labels in train_loader:\n",
        "    # multi image figure\n",
        "    figure = plt.figure()\n",
        "    # the original image\n",
        "    image = images[0][0]\n",
        "    \n",
        "    figure.add_subplot(3, 6, 1)\n",
        "    plt.imshow(image.numpy(), cmap=plt.get_cmap('binary'))\n",
        "    output = model(image)\n",
        "    # remember we have a batch in the model -- and this\n",
        "    # has a gradient, so we'll need it detached to get numpy format\n",
        "    filter_one = model.after_conv1[0].detach()\n",
        "    for i in range(3):\n",
        "        figure.add_subplot(3, 6, 6 + 1 + i)\n",
        "        plt.imshow(filter_one[i].cpu().numpy(), cmap=plt.get_cmap('binary'))\n",
        "    \n",
        "    filter_two = model.after_conv2[0].detach()\n",
        "    for i in range(6):\n",
        "        figure.add_subplot(3, 6, 12 + 1 + i)\n",
        "        plt.imshow(filter_two[i].cpu().numpy(), cmap=plt.get_cmap('binary'))\n",
        "    plt.show()\n",
        "\n",
        "    break\n",
        "\n",
        "\n",
        "\n",
        "\n"
      ],
      "execution_count": 6,
      "outputs": []
    },
    {
      "cell_type": "code",
      "metadata": {
        "id": "MMWbLWO6FuHb",
        "colab": {
          "base_uri": "https://localhost:8080/"
        },
        "outputId": "2c45d5ea-aa34-4cc2-ceb7-70b585c742b5"
      },
      "source": [
        "\n",
        "model = Model().to(device)\n",
        "optimizer = optim.Adam(model.parameters(),lr=1e-4)\n",
        "loss_function = nn.NLLLoss()\n",
        "epochs = 19\n",
        "train_losses, test_losses = [], []\n",
        "train_accu, test_accu = [], []\n",
        "start_time = time.time()\n",
        "early_stop_counter = 10   # stop when the validation loss does not improve for 10 iterations to prevent overfitting\n",
        "counter = 0\n",
        "best_test_loss = float('Inf')\n",
        "\n",
        "\n",
        "summary(model, input_size=(1, 28, 28))\n",
        "\n",
        "for epoch in range(epochs):\n",
        "    epoch_start_time = time.time()\n",
        "   \n",
        "    # training step\n",
        "    train(model, device, train_loader, optimizer, epoch) \n",
        "\n",
        "\n",
        "    test(model, device, test_loader) \n",
        "    print(\"Epoch: {}/{}.. \".format(epoch+1, epochs),\n",
        "      \"Time: {:.2f}s..\".format(time.time()-epoch_start_time),\n",
        "      \"Training Loss: {:.3f}.. \".format(train_losses[-1]),\n",
        "      \"Training Accu: {:.3f}.. \".format(train_accu[-1]),\n",
        "      \"Val Loss: {:.3f}.. \".format(test_losses[-1]),\n",
        "      \"Val Accu: {:.3f}\".format(test_accu[-1]))\n",
        "    \n",
        "    if test_losses[-1] < best_test_loss:\n",
        "        best_val_loss = test_losses[-1]\n",
        "        counter=0\n",
        "        best_model_wts = copy.deepcopy(model.state_dict())\n",
        "    else:\n",
        "        counter+=1\n",
        "        print('Validation loss has not improved since: {:.3f}..'.format(best_val_loss), 'Count: ', str(counter))\n",
        "        if counter >= early_stop_counter:\n",
        "            print('Early Stopping Now!!!!')\n",
        "            model.load_state_dict(best_model_wts)\n",
        "            break   \n",
        "\n",
        "\n",
        "\n",
        "\n",
        "\n"
      ],
      "execution_count": 7,
      "outputs": [
        {
          "output_type": "stream",
          "text": [
            "loss=2.6776821613311768 batch_id=1:   0%|          | 2/469 [00:00<00:37, 12.58it/s]"
          ],
          "name": "stderr"
        },
        {
          "output_type": "stream",
          "text": [
            "----------------------------------------------------------------\n",
            "        Layer (type)               Output Shape         Param #\n",
            "================================================================\n",
            "            Conv2d-1           [-1, 32, 28, 28]             320\n",
            "              ReLU-2           [-1, 32, 28, 28]               0\n",
            "       BatchNorm2d-3           [-1, 32, 28, 28]              64\n",
            "            Conv2d-4           [-1, 32, 28, 28]           9,248\n",
            "              ReLU-5           [-1, 32, 28, 28]               0\n",
            "       BatchNorm2d-6           [-1, 32, 28, 28]              64\n",
            "            Conv2d-7           [-1, 32, 14, 14]           9,248\n",
            "              ReLU-8           [-1, 32, 14, 14]               0\n",
            "       BatchNorm2d-9           [-1, 32, 14, 14]              64\n",
            "        MaxPool2d-10             [-1, 32, 7, 7]               0\n",
            "          Dropout-11             [-1, 32, 7, 7]               0\n",
            "           Conv2d-12             [-1, 64, 7, 7]          18,496\n",
            "             ReLU-13             [-1, 64, 7, 7]               0\n",
            "      BatchNorm2d-14             [-1, 64, 7, 7]             128\n",
            "           Conv2d-15             [-1, 64, 7, 7]          36,928\n",
            "             ReLU-16             [-1, 64, 7, 7]               0\n",
            "      BatchNorm2d-17             [-1, 64, 7, 7]             128\n",
            "           Conv2d-18             [-1, 64, 4, 4]          36,928\n",
            "             ReLU-19             [-1, 64, 4, 4]               0\n",
            "      BatchNorm2d-20             [-1, 64, 4, 4]             128\n",
            "        MaxPool2d-21             [-1, 64, 2, 2]               0\n",
            "          Dropout-22             [-1, 64, 2, 2]               0\n",
            "           Conv2d-23            [-1, 128, 2, 2]          73,856\n",
            "             ReLU-24            [-1, 128, 2, 2]               0\n",
            "      BatchNorm2d-25            [-1, 128, 2, 2]             256\n",
            "        MaxPool2d-26            [-1, 128, 1, 1]               0\n",
            "          Dropout-27            [-1, 128, 1, 1]               0\n",
            "           Linear-28                   [-1, 10]           1,290\n",
            "================================================================\n",
            "Total params: 187,146\n",
            "Trainable params: 187,146\n",
            "Non-trainable params: 0\n",
            "----------------------------------------------------------------\n",
            "Input size (MB): 0.00\n",
            "Forward/backward pass size (MB): 1.50\n",
            "Params size (MB): 0.71\n",
            "Estimated Total Size (MB): 2.22\n",
            "----------------------------------------------------------------\n"
          ],
          "name": "stdout"
        },
        {
          "output_type": "stream",
          "text": [
            "loss=0.41953185200691223 batch_id=468: 100%|██████████| 469/469 [00:36<00:00, 12.80it/s]\n",
            "loss=0.3506840467453003 batch_id=1:   0%|          | 2/469 [00:00<00:33, 14.11it/s]"
          ],
          "name": "stderr"
        },
        {
          "output_type": "stream",
          "text": [
            "Epoch: 1/19..  Time: 38.15s.. Training Loss: 0.000..  Training Accu: 0.717..  Val Loss: 0.000..  Val Accu: 0.975\n"
          ],
          "name": "stdout"
        },
        {
          "output_type": "stream",
          "text": [
            "loss=0.10621903091669083 batch_id=468: 100%|██████████| 469/469 [00:36<00:00, 12.77it/s]\n",
            "loss=0.14517654478549957 batch_id=1:   0%|          | 2/469 [00:00<00:36, 12.94it/s]"
          ],
          "name": "stderr"
        },
        {
          "output_type": "stream",
          "text": [
            "Epoch: 2/19..  Time: 38.10s.. Training Loss: 0.000..  Training Accu: 0.942..  Val Loss: 0.000..  Val Accu: 0.987\n"
          ],
          "name": "stdout"
        },
        {
          "output_type": "stream",
          "text": [
            "loss=0.1419057697057724 batch_id=468: 100%|██████████| 469/469 [00:36<00:00, 12.83it/s]\n",
            "loss=0.11933135241270065 batch_id=1:   0%|          | 2/469 [00:00<00:34, 13.59it/s]"
          ],
          "name": "stderr"
        },
        {
          "output_type": "stream",
          "text": [
            "Epoch: 3/19..  Time: 37.99s.. Training Loss: 0.000..  Training Accu: 0.961..  Val Loss: 0.000..  Val Accu: 0.988\n"
          ],
          "name": "stdout"
        },
        {
          "output_type": "stream",
          "text": [
            "loss=0.026937605813145638 batch_id=468: 100%|██████████| 469/469 [00:36<00:00, 12.70it/s]\n",
            "loss=0.03817378357052803 batch_id=1:   0%|          | 2/469 [00:00<00:34, 13.58it/s]"
          ],
          "name": "stderr"
        },
        {
          "output_type": "stream",
          "text": [
            "Epoch: 4/19..  Time: 38.29s.. Training Loss: 0.000..  Training Accu: 0.969..  Val Loss: 0.000..  Val Accu: 0.989\n"
          ],
          "name": "stdout"
        },
        {
          "output_type": "stream",
          "text": [
            "loss=0.15347713232040405 batch_id=468: 100%|██████████| 469/469 [00:36<00:00, 12.71it/s]\n",
            "loss=0.058475952595472336 batch_id=1:   0%|          | 2/469 [00:00<00:33, 14.11it/s]"
          ],
          "name": "stderr"
        },
        {
          "output_type": "stream",
          "text": [
            "Epoch: 5/19..  Time: 38.32s.. Training Loss: 0.000..  Training Accu: 0.974..  Val Loss: 0.000..  Val Accu: 0.991\n"
          ],
          "name": "stdout"
        },
        {
          "output_type": "stream",
          "text": [
            "loss=0.04855232313275337 batch_id=468: 100%|██████████| 469/469 [00:36<00:00, 12.75it/s]\n",
            "loss=0.1023772656917572 batch_id=1:   0%|          | 2/469 [00:00<00:36, 12.95it/s]"
          ],
          "name": "stderr"
        },
        {
          "output_type": "stream",
          "text": [
            "Epoch: 6/19..  Time: 38.19s.. Training Loss: 0.000..  Training Accu: 0.978..  Val Loss: 0.000..  Val Accu: 0.992\n"
          ],
          "name": "stdout"
        },
        {
          "output_type": "stream",
          "text": [
            "loss=0.0668657049536705 batch_id=468: 100%|██████████| 469/469 [00:36<00:00, 12.74it/s]\n",
            "loss=0.059526365250349045 batch_id=1:   0%|          | 2/469 [00:00<00:33, 13.82it/s]"
          ],
          "name": "stderr"
        },
        {
          "output_type": "stream",
          "text": [
            "Epoch: 7/19..  Time: 38.24s.. Training Loss: 0.000..  Training Accu: 0.979..  Val Loss: 0.000..  Val Accu: 0.992\n"
          ],
          "name": "stdout"
        },
        {
          "output_type": "stream",
          "text": [
            "loss=0.11442556232213974 batch_id=468: 100%|██████████| 469/469 [00:37<00:00, 12.61it/s]\n",
            "loss=0.05817505717277527 batch_id=1:   0%|          | 2/469 [00:00<00:33, 14.15it/s]"
          ],
          "name": "stderr"
        },
        {
          "output_type": "stream",
          "text": [
            "Epoch: 8/19..  Time: 38.63s.. Training Loss: 0.000..  Training Accu: 0.982..  Val Loss: 0.000..  Val Accu: 0.992\n"
          ],
          "name": "stdout"
        },
        {
          "output_type": "stream",
          "text": [
            "loss=0.012670584954321384 batch_id=468: 100%|██████████| 469/469 [00:36<00:00, 12.98it/s]\n",
            "loss=0.11201724410057068 batch_id=1:   0%|          | 2/469 [00:00<00:33, 13.85it/s]"
          ],
          "name": "stderr"
        },
        {
          "output_type": "stream",
          "text": [
            "Epoch: 9/19..  Time: 37.54s.. Training Loss: 0.000..  Training Accu: 0.983..  Val Loss: 0.000..  Val Accu: 0.994\n"
          ],
          "name": "stdout"
        },
        {
          "output_type": "stream",
          "text": [
            "loss=0.03577198460698128 batch_id=468: 100%|██████████| 469/469 [00:36<00:00, 12.85it/s]\n",
            "loss=0.10558625310659409 batch_id=1:   0%|          | 2/469 [00:00<00:32, 14.39it/s]"
          ],
          "name": "stderr"
        },
        {
          "output_type": "stream",
          "text": [
            "Epoch: 10/19..  Time: 37.90s.. Training Loss: 0.000..  Training Accu: 0.984..  Val Loss: 0.000..  Val Accu: 0.994\n"
          ],
          "name": "stdout"
        },
        {
          "output_type": "stream",
          "text": [
            "loss=0.03525514155626297 batch_id=468: 100%|██████████| 469/469 [00:36<00:00, 12.90it/s]\n",
            "loss=0.022156501188874245 batch_id=1:   0%|          | 2/469 [00:00<00:36, 12.76it/s]"
          ],
          "name": "stderr"
        },
        {
          "output_type": "stream",
          "text": [
            "Epoch: 11/19..  Time: 37.82s.. Training Loss: 0.000..  Training Accu: 0.984..  Val Loss: 0.000..  Val Accu: 0.994\n"
          ],
          "name": "stdout"
        },
        {
          "output_type": "stream",
          "text": [
            "loss=0.028563780710101128 batch_id=468: 100%|██████████| 469/469 [00:36<00:00, 12.91it/s]\n",
            "loss=0.07593748718500137 batch_id=1:   0%|          | 2/469 [00:00<00:32, 14.20it/s]"
          ],
          "name": "stderr"
        },
        {
          "output_type": "stream",
          "text": [
            "Epoch: 12/19..  Time: 37.67s.. Training Loss: 0.000..  Training Accu: 0.986..  Val Loss: 0.000..  Val Accu: 0.993\n"
          ],
          "name": "stdout"
        },
        {
          "output_type": "stream",
          "text": [
            "loss=0.023065755143761635 batch_id=468: 100%|██████████| 469/469 [00:35<00:00, 13.03it/s]\n",
            "loss=0.02094746008515358 batch_id=1:   0%|          | 2/469 [00:00<00:33, 14.01it/s]"
          ],
          "name": "stderr"
        },
        {
          "output_type": "stream",
          "text": [
            "Epoch: 13/19..  Time: 37.42s.. Training Loss: 0.000..  Training Accu: 0.986..  Val Loss: 0.000..  Val Accu: 0.994\n"
          ],
          "name": "stdout"
        },
        {
          "output_type": "stream",
          "text": [
            "loss=0.029277658089995384 batch_id=468: 100%|██████████| 469/469 [00:36<00:00, 12.88it/s]\n",
            "loss=0.025068581104278564 batch_id=1:   0%|          | 2/469 [00:00<00:32, 14.31it/s]"
          ],
          "name": "stderr"
        },
        {
          "output_type": "stream",
          "text": [
            "Epoch: 14/19..  Time: 37.88s.. Training Loss: 0.000..  Training Accu: 0.987..  Val Loss: 0.000..  Val Accu: 0.995\n"
          ],
          "name": "stdout"
        },
        {
          "output_type": "stream",
          "text": [
            "loss=0.03064211644232273 batch_id=468: 100%|██████████| 469/469 [00:36<00:00, 13.01it/s]\n",
            "loss=0.020379073917865753 batch_id=1:   0%|          | 2/469 [00:00<00:33, 14.00it/s]"
          ],
          "name": "stderr"
        },
        {
          "output_type": "stream",
          "text": [
            "Epoch: 15/19..  Time: 37.44s.. Training Loss: 0.000..  Training Accu: 0.987..  Val Loss: 0.000..  Val Accu: 0.996\n"
          ],
          "name": "stdout"
        },
        {
          "output_type": "stream",
          "text": [
            "loss=0.028244411572813988 batch_id=468: 100%|██████████| 469/469 [00:36<00:00, 12.94it/s]\n",
            "loss=0.03741325065493584 batch_id=1:   0%|          | 2/469 [00:00<00:34, 13.70it/s]"
          ],
          "name": "stderr"
        },
        {
          "output_type": "stream",
          "text": [
            "Epoch: 16/19..  Time: 37.62s.. Training Loss: 0.000..  Training Accu: 0.987..  Val Loss: 0.000..  Val Accu: 0.995\n"
          ],
          "name": "stdout"
        },
        {
          "output_type": "stream",
          "text": [
            "loss=0.009755776263773441 batch_id=468: 100%|██████████| 469/469 [00:36<00:00, 12.96it/s]\n",
            "loss=0.040903039276599884 batch_id=1:   0%|          | 2/469 [00:00<00:32, 14.35it/s]"
          ],
          "name": "stderr"
        },
        {
          "output_type": "stream",
          "text": [
            "Epoch: 17/19..  Time: 37.53s.. Training Loss: 0.000..  Training Accu: 0.988..  Val Loss: 0.000..  Val Accu: 0.996\n"
          ],
          "name": "stdout"
        },
        {
          "output_type": "stream",
          "text": [
            "loss=0.04846903309226036 batch_id=468: 100%|██████████| 469/469 [00:36<00:00, 12.98it/s]\n",
            "loss=0.034546270966529846 batch_id=1:   0%|          | 2/469 [00:00<00:34, 13.39it/s]"
          ],
          "name": "stderr"
        },
        {
          "output_type": "stream",
          "text": [
            "Epoch: 18/19..  Time: 37.57s.. Training Loss: 0.000..  Training Accu: 0.988..  Val Loss: 0.000..  Val Accu: 0.995\n"
          ],
          "name": "stdout"
        },
        {
          "output_type": "stream",
          "text": [
            "loss=0.09299352765083313 batch_id=468: 100%|██████████| 469/469 [00:36<00:00, 12.71it/s]\n"
          ],
          "name": "stderr"
        },
        {
          "output_type": "stream",
          "text": [
            "Epoch: 19/19..  Time: 38.25s.. Training Loss: 0.000..  Training Accu: 0.989..  Val Loss: 0.000..  Val Accu: 0.996\n"
          ],
          "name": "stdout"
        }
      ]
    },
    {
      "cell_type": "markdown",
      "metadata": {
        "id": "C_Tq3l_khrVA"
      },
      "source": [
        "#### 4. Visualize training"
      ]
    },
    {
      "cell_type": "code",
      "metadata": {
        "colab": {
          "base_uri": "https://localhost:8080/",
          "height": 711
        },
        "id": "wrDSPuAbhoF-",
        "outputId": "dc0270ed-ad69-4c48-9142-28f3b468e606"
      },
      "source": [
        "# plot training history\n",
        "plt.figure(figsize=(12,12))\n",
        "plt.subplot(2,1,1)\n",
        "ax = plt.gca()\n",
        "ax.set_xlim([0, epoch + 2])\n",
        "plt.ylabel('Loss')\n",
        "plt.plot(range(1, epoch + 2), train_losses[:epoch+1], 'g', label='Training Loss')\n",
        "plt.plot(range(1, epoch + 2), test_losses[:epoch+1], 'b', label='Validation Loss')\n",
        "ax.grid(linestyle='-.')\n",
        "plt.legend()\n",
        "plt.subplot(2,1,2)\n",
        "ax = plt.gca()\n",
        "ax.set_xlim([0, epoch+2])\n",
        "plt.ylabel('Accuracy')\n",
        "plt.plot(range(1, epoch + 2), train_accu[:epoch+1], 'g', label='Training Accuracy')\n",
        "plt.plot(range(1, epoch + 2), test_accu[:epoch+1], 'b', label='Validation Accuracy')\n",
        "ax.grid(linestyle='-.')\n",
        "plt.legend()\n",
        "plt.show()        "
      ],
      "execution_count": 9,
      "outputs": [
        {
          "output_type": "display_data",
          "data": {
            "image/png": "[encoded data removed]",
            "text/plain": [
              "<Figure size 864x864 with 2 Axes>"
            ]
          },
          "metadata": {
            "tags": [],
            "needs_background": "light"
          }
        }
      ]
    },
    {
      "cell_type": "code",
      "metadata": {
        "id": "So5uk4EkHW6R"
      },
      "source": [
        ""
      ],
      "execution_count": 8,
      "outputs": []
    }
  ]
}