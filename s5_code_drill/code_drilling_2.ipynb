{
  "nbformat": 4,
  "nbformat_minor": 0,
  "metadata": {
    "colab": {
      "name": "code_drilling_2.ipynb",
      "private_outputs": true,
      "provenance": []
    },
    "kernelspec": {
      "name": "python3",
      "display_name": "Python 3"
    },
    "language_info": {
      "name": "python"
    },
    "accelerator": "GPU"
  },
  "cells": [
    {
      "cell_type": "markdown",
      "metadata": {
        "id": "hu5l8I02lfM7"
      },
      "source": [
        "###Coding Drill 01\n",
        "\n",
        "**1. Target**\n",
        "\n",
        "\n",
        "1.   Fine Tune the Transforms, set rotation to -5deg to 5deg\n",
        "2.   Use ReduceLROnPlateau Scheduler to dynamically adjust learning rate.\n",
        "       \n",
        "\n",
        "\n"
      ]
    },
    {
      "cell_type": "markdown",
      "metadata": {
        "id": "Rrgq6lxOmf0W"
      },
      "source": [
        "### 2. Result\n",
        "\n",
        "Params: 9,962 \\\\\n",
        "Best Train Accuracy: 97.03% \\\\\n",
        "Best Test Accuracy : 99.2% \\\\"
      ]
    },
    {
      "cell_type": "markdown",
      "metadata": {
        "id": "AP6cqbF-msmr"
      },
      "source": [
        "###3. Analysis\n",
        "\n",
        "Now the learning is consistent, the accuracy increases"
      ]
    },
    {
      "cell_type": "markdown",
      "metadata": {
        "id": "l8vSc838nPq7"
      },
      "source": [
        "###4. Model Summary\n",
        "\n",
        " Layer (type)               Output Shape         Param #\n",
        "================================================================\n",
        "            Conv2d-1           [-1, 14, 26, 26]             126\n",
        "              ReLU-2           [-1, 14, 26, 26]               0\n",
        "       BatchNorm2d-3           [-1, 14, 26, 26]              28\n",
        "           Dropout-4           [-1, 14, 26, 26]               0\n",
        "            Conv2d-5           [-1, 30, 24, 24]           3,780\n",
        "              ReLU-6           [-1, 30, 24, 24]               0\n",
        "       BatchNorm2d-7           [-1, 30, 24, 24]              60\n",
        "           Dropout-8           [-1, 30, 24, 24]               0\n",
        "            Conv2d-9           [-1, 10, 24, 24]             300\n",
        "        MaxPool2d-10           [-1, 10, 12, 12]               0\n",
        "           Conv2d-11           [-1, 14, 10, 10]           1,260\n",
        "             ReLU-12           [-1, 14, 10, 10]               0\n",
        "      BatchNorm2d-13           [-1, 14, 10, 10]              28\n",
        "          Dropout-14           [-1, 14, 10, 10]               0\n",
        "           Conv2d-15             [-1, 15, 8, 8]           1,890\n",
        "             ReLU-16             [-1, 15, 8, 8]               0\n",
        "      BatchNorm2d-17             [-1, 15, 8, 8]              30\n",
        "          Dropout-18             [-1, 15, 8, 8]               0\n",
        "           Conv2d-19             [-1, 15, 6, 6]           2,025\n",
        "             ReLU-20             [-1, 15, 6, 6]               0\n",
        "      BatchNorm2d-21             [-1, 15, 6, 6]              30\n",
        "          Dropout-22             [-1, 15, 6, 6]               0\n",
        "        AvgPool2d-23             [-1, 15, 1, 1]               0\n",
        "           Conv2d-24             [-1, 15, 1, 1]             225\n",
        "      BatchNorm2d-25             [-1, 15, 1, 1]              30\n",
        "             ReLU-26             [-1, 15, 1, 1]               0\n",
        "          Dropout-27             [-1, 15, 1, 1]               0\n",
        "           Conv2d-28             [-1, 10, 1, 1]             150"
      ]
    },
    {
      "cell_type": "markdown",
      "metadata": {
        "id": "3P6Cwmvz5yPh"
      },
      "source": [
        "### Import Libraries"
      ]
    },
    {
      "cell_type": "code",
      "metadata": {
        "id": "wIUsskQe5RCn"
      },
      "source": [
        "from __future__ import print_function\n",
        "import torch\n",
        "import torch.nn as nn\n",
        "import torch.nn.functional as F\n",
        "import torch.optim as optim\n",
        "from torchvision import datasets, transforms\n",
        "\n",
        "import matplotlib.pyplot as plt"
      ],
      "execution_count": null,
      "outputs": []
    },
    {
      "cell_type": "markdown",
      "metadata": {
        "id": "3DFC80i0539b"
      },
      "source": [
        "### Data Transformations"
      ]
    },
    {
      "cell_type": "code",
      "metadata": {
        "id": "7xtfMDEF5tro"
      },
      "source": [
        "# Train Phase transformations\n",
        "train_transforms = transforms.Compose([\n",
        "                                       transforms.RandomRotation((-5.0, 5.0), fill=(1,)),\n",
        "                                       transforms.RandomAffine(degrees=20, translate=(0.1,0.1), scale=(0.9, 1.1)),\n",
        "                                      \n",
        "                                       transforms.ToTensor(),\n",
        "                                       transforms.Normalize(mean=[0.1307], std=[0.3081]),\n",
        "                                       ])\n",
        "\n",
        "# Test Phase transformations\n",
        "test_transforms = transforms.Compose([\n",
        "                                       transforms.ToTensor(),\n",
        "                                       transforms.Normalize(mean=[0.1307], std=[0.3081])\n",
        "\n",
        "                                       ])"
      ],
      "execution_count": null,
      "outputs": []
    },
    {
      "cell_type": "markdown",
      "metadata": {
        "id": "7KqmBmRH6CcB"
      },
      "source": [
        "### Dataset and Creating Train/Test Split"
      ]
    },
    {
      "cell_type": "code",
      "metadata": {
        "id": "RT7bsgii5tun"
      },
      "source": [
        "train = datasets.MNIST('./data', train=True, download=True, transform=train_transforms)\n",
        "test = datasets.MNIST('./data', train=False, download=True, transform=test_transforms)"
      ],
      "execution_count": null,
      "outputs": []
    },
    {
      "cell_type": "markdown",
      "metadata": {
        "id": "Zr0LCXud6Dof"
      },
      "source": [
        "### Dataloader Arguments & Test/Train Dataloaders"
      ]
    },
    {
      "cell_type": "code",
      "metadata": {
        "id": "IsVKdl0C5txc"
      },
      "source": [
        "SEED = 1\n",
        "\n",
        "# CUDA?\n",
        "cuda = torch.cuda.is_available()\n",
        "print(\"CUDA Available?\", cuda)\n",
        "\n",
        "# For reproducibility\n",
        "torch.manual_seed(SEED)\n",
        "\n",
        "if cuda:\n",
        "    torch.cuda.manual_seed(SEED)\n",
        "\n",
        "# note about pin_memory\n",
        "# If you load your samples in the Dataset on CPU and would like to push it\n",
        "# during training to the GPU, you can speed up the host to device transfer by\n",
        "# enabling pin_memory. This lets your DataLoader allocate the samples in\n",
        "# page-locked memory, which speeds-up the transfer.\n",
        "\n",
        "# dataloader arguments - something you'll fetch these from cmdprmt\n",
        "dataloader_args = dict(shuffle=True, batch_size=128, num_workers=2, pin_memory=True) if cuda else dict(shuffle=True, batch_size=64)\n",
        "\n",
        "# train dataloader\n",
        "train_loader = torch.utils.data.DataLoader(train, **dataloader_args)\n",
        "\n",
        "# test dataloader\n",
        "test_loader = torch.utils.data.DataLoader(test, **dataloader_args)"
      ],
      "execution_count": null,
      "outputs": []
    },
    {
      "cell_type": "markdown",
      "metadata": {
        "id": "WMYb-ZNY6YKN"
      },
      "source": [
        ""
      ]
    },
    {
      "cell_type": "markdown",
      "metadata": {
        "id": "DbqDPogA6YNS"
      },
      "source": [
        "### The Model"
      ]
    },
    {
      "cell_type": "code",
      "metadata": {
        "id": "hoBpJ_Hi5t0W"
      },
      "source": [
        "import torch.nn.functional as F\n",
        "dropout_value = 0.1\n",
        "class Net(nn.Module):\n",
        "    def __init__(self):\n",
        "        super(Net, self).__init__()\n",
        "        # Input Block\n",
        "        self.convblock1 = nn.Sequential(\n",
        "            nn.Conv2d(in_channels=1, out_channels=14, kernel_size=(3, 3), padding=0, bias=False),\n",
        "            nn.ReLU(),\n",
        "            nn.BatchNorm2d(14),\n",
        "            nn.Dropout(dropout_value)\n",
        "        ) # output_size = 26\n",
        "\n",
        "        # CONVOLUTION BLOCK 1\n",
        "        self.convblock2 = nn.Sequential(\n",
        "            nn.Conv2d(in_channels=14, out_channels=30, kernel_size=(3, 3), padding=0, bias=False),\n",
        "            nn.ReLU(),\n",
        "            nn.BatchNorm2d(30),\n",
        "            nn.Dropout(dropout_value)\n",
        "        ) # output_size = 24\n",
        "\n",
        "        # TRANSITION BLOCK 1\n",
        "        self.convblock3 = nn.Sequential(\n",
        "            nn.Conv2d(in_channels=30, out_channels=10, kernel_size=(1, 1), padding=0, bias=False),\n",
        "        ) # output_size = 24\n",
        "        self.pool1 = nn.MaxPool2d(2, 2) # output_size = 12\n",
        "\n",
        "        # CONVOLUTION BLOCK 2\n",
        "        self.convblock4 = nn.Sequential(\n",
        "            nn.Conv2d(in_channels=10, out_channels=14, kernel_size=(3, 3), padding=0, bias=False),\n",
        "            nn.ReLU(),            \n",
        "            nn.BatchNorm2d(14),\n",
        "            nn.Dropout(dropout_value)\n",
        "        ) # output_size = 10\n",
        "        self.convblock5 = nn.Sequential(\n",
        "            nn.Conv2d(in_channels=14, out_channels=15, kernel_size=(3, 3), padding=0, bias=False),\n",
        "            nn.ReLU(),            \n",
        "            nn.BatchNorm2d(15),\n",
        "            nn.Dropout(dropout_value)\n",
        "        ) # output_size = 8\n",
        "        self.convblock6 = nn.Sequential(\n",
        "            nn.Conv2d(in_channels=15, out_channels=15, kernel_size=(3, 3), padding=0, bias=False),\n",
        "            nn.ReLU(),            \n",
        "            nn.BatchNorm2d(15),\n",
        "            nn.Dropout(dropout_value)\n",
        "        ) # output_size = 6\n",
        "        \n",
        "        # OUTPUT BLOCK\n",
        "        self.gap = nn.Sequential(\n",
        "            nn.AvgPool2d(kernel_size=6)\n",
        "        ) # output_size = 1\n",
        "\n",
        "        self.convblock7 = nn.Sequential(\n",
        "            nn.Conv2d(in_channels=15, out_channels=15, kernel_size=(1, 1), padding=0, bias=False),\n",
        "            nn.BatchNorm2d(15),\n",
        "            nn.ReLU(),\n",
        "            nn.Dropout(dropout_value)\n",
        "        )\n",
        "\n",
        "        self.convblock8 = nn.Sequential(\n",
        "            nn.Conv2d(in_channels=15, out_channels=10, kernel_size=(1, 1), padding=0, bias=False),\n",
        "        )\n",
        "\n",
        "        self.dropout = nn.Dropout(dropout_value)\n",
        "\n",
        "    def forward(self, x):\n",
        "        x = self.convblock1(x)\n",
        "        x = self.convblock2(x)\n",
        "        x = self.convblock3(x)\n",
        "        x = self.pool1(x)\n",
        "        x = self.convblock4(x)\n",
        "        x = self.convblock5(x)\n",
        "        x = self.convblock6(x)\n",
        "        x = self.gap(x)        \n",
        "        x = self.convblock7(x)\n",
        "        x = self.convblock8(x)\n",
        "\n",
        "        x = x.view(-1, 10)\n",
        "        return F.log_softmax(x, dim=-1)"
      ],
      "execution_count": null,
      "outputs": []
    },
    {
      "cell_type": "markdown",
      "metadata": {
        "id": "3P5rSn1b69wu"
      },
      "source": [
        "### Model Params"
      ]
    },
    {
      "cell_type": "markdown",
      "metadata": {
        "id": "3ynBQ1NP6963"
      },
      "source": [
        ""
      ]
    },
    {
      "cell_type": "code",
      "metadata": {
        "id": "S5zFUtzY5t2j"
      },
      "source": [
        "!pip install torchsummary\n",
        "from torchsummary import summary\n",
        "use_cuda = torch.cuda.is_available()\n",
        "device = torch.device(\"cuda\" if use_cuda else \"cpu\")\n",
        "print(device)\n",
        "model = Net().to(device)\n",
        "summary(model, input_size=(1, 28, 28))"
      ],
      "execution_count": null,
      "outputs": []
    },
    {
      "cell_type": "markdown",
      "metadata": {
        "id": "665zbsO57ER1"
      },
      "source": [
        "### Training and Testing"
      ]
    },
    {
      "cell_type": "markdown",
      "metadata": {
        "id": "cGy-2bO5ldQ5"
      },
      "source": [
        ""
      ]
    },
    {
      "cell_type": "code",
      "metadata": {
        "id": "rAtF0QTB7HmM"
      },
      "source": [
        "# this automatically selects tqdm for colab_notebook\n",
        "from tqdm.auto import tqdm, trange\n",
        "\n",
        "train_losses = []\n",
        "test_losses = []\n",
        "train_acc = []\n",
        "test_acc = []\n",
        "\n",
        "def train(model, device, train_loader, optimizer, epoch):\n",
        "  model.train()\n",
        "  pbar = tqdm(train_loader, ncols=\"80%\")\n",
        "  correct = 0\n",
        "  processed = 0\n",
        "  loss=0\n",
        "  for batch_idx, (data, target) in enumerate(pbar):\n",
        "    # get samples\n",
        "    data, target = data.to(device), target.to(device)\n",
        "\n",
        "    # Init\n",
        "    optimizer.zero_grad()\n",
        "    # In PyTorch, we need to set the gradients to zero before starting to do \n",
        "    # backpropragation because PyTorch accumulates the gradients on subsequent \n",
        "    # backward passes. \n",
        "    # Because of this, when you start your training loop, ideally you should \n",
        "    # zero out the gradients so that you do the parameter update correctly.\n",
        "\n",
        "    # Predict\n",
        "    y_pred = model(data)\n",
        "\n",
        "    # Calculate loss\n",
        "    loss = F.nll_loss(y_pred, target)\n",
        "    train_losses.append(loss)\n",
        "\n",
        "    # Backpropagation\n",
        "    loss.backward()\n",
        "    optimizer.step()\n",
        "    lrs.append(optimizer.param_groups[0][\"lr\"])\n",
        "\n",
        "    # Decay the Learning Rate\n",
        "    scheduler.step()\n",
        "    \n",
        "    # get the index of the max log-probability\n",
        "    pred = y_pred.argmax(dim=1, keepdim=True)\n",
        "    correct += pred.eq(target.view_as(pred)).sum().item()\n",
        "    processed += len(data)\n",
        "\n",
        "    # Update pbar-tqdm\n",
        "    pbar.set_description(desc= f'Train Loss={loss.item()} Batch_id={batch_idx} Train Accuracy={100*correct/processed:0.2f}')\n",
        "    train_acc.append(100*correct/processed)\n",
        "\n",
        "  loss /= len(train_loader.dataset)\n",
        "  train_losses.append(loss)\n",
        "\n",
        "\n",
        "\n",
        "\n",
        "def test(model, device, test_loader):\n",
        "    model.eval()\n",
        "    test_loss = 0\n",
        "    correct = 0\n",
        "    processed=0\n",
        "\n",
        "    with torch.no_grad():\n",
        "        for data,target in test_loader:\n",
        "            data, target = data.to(device), target.to(device)\n",
        "            output = model(data)\n",
        "            # sum up batch loss\n",
        "            test_loss += F.nll_loss(output, target, reduction='sum').item()\n",
        "            # get the index of the max log-probability\n",
        "            pred = output.argmax(dim=1, keepdim=True)\n",
        "            correct += pred.eq(target.view_as(pred)).sum().item()\n",
        "            processed += len(data)\n",
        "\n",
        "    test_loss /= len(test_loader.dataset)\n",
        "    test_losses.append(test_loss)\n",
        "    test_acc.append(100. * correct / len(test_loader.dataset))\n",
        "\n",
        "     # Update pbar-tqdm\n",
        "    print(     \n",
        "      \"Val Loss: {:.3f}.. \".format(test_losses[-1]),\n",
        "      \"Val Accu: {:.3f}\".format(test_acc[-1]))\n",
        "    \n",
        "    \n",
        "   \n"
      ],
      "execution_count": null,
      "outputs": []
    },
    {
      "cell_type": "code",
      "metadata": {
        "id": "Woko1ZQey8KD"
      },
      "source": [
        ""
      ],
      "execution_count": null,
      "outputs": []
    },
    {
      "cell_type": "markdown",
      "metadata": {
        "id": "xZQgsVZk7MJf"
      },
      "source": [
        ""
      ]
    },
    {
      "cell_type": "code",
      "metadata": {
        "id": "gw9Nknxi7MVp"
      },
      "source": [
        "\n",
        "from torch.optim.lr_scheduler import OneCycleLR\n",
        "\n",
        "model =  Net().to(device)\n",
        "optimizer = torch.optim.SGD(model.parameters(), lr=0.003,momentum=0.9)\n",
        "EPOCHS = 15\n",
        "scheduler =ReduceLROnPlateau(optimizer, mode='max', factor=0.1, patience=0, verbose=True)\n",
        "lrs = []\n",
        "\n",
        "\n",
        "\n",
        "\n",
        "for epoch in range(EPOCHS):\n",
        "    # Print Learning Rate\n",
        "    print(\"EPOCH:\", epoch+1, 'LR:', scheduler.get_last_lr())\n",
        "    # Train the model\n",
        "    train(model, device, train_loader, optimizer, epoch)\n",
        "    # Validate the model\n",
        "    test(model, device, test_loader)\n",
        " \n"
      ],
      "execution_count": null,
      "outputs": []
    },
    {
      "cell_type": "code",
      "metadata": {
        "id": "4vg9yz-zxtno"
      },
      "source": [
        "import matplotlib.pyplot as plt\n",
        "import seaborn as sns\n",
        "sns.set()\n",
        "plt.style.use(\"seaborn-poster\")\n",
        "\n",
        "fig, axs = plt.subplots(2,2,figsize=(15,10))\n",
        "axs[0, 0].plot(train_losses)\n",
        "axs[0, 0].set_title(\"Training Loss\")\n",
        "axs[1, 0].plot(train_acc[4000:])\n",
        "axs[1, 0].set_title(\"Training Accuracy\")\n",
        "axs[0, 1].plot(test_losses)\n",
        "axs[0, 1].set_title(\"Test Loss\")\n",
        "axs[1, 1].plot(test_acc)\n",
        "axs[1, 1].set_title(\"Test Accuracy\")"
      ],
      "execution_count": null,
      "outputs": []
    },
    {
      "cell_type": "code",
      "metadata": {
        "id": "JRTBmX3Ny3CK"
      },
      "source": [
        "import seaborn as sns"
      ],
      "execution_count": null,
      "outputs": []
    },
    {
      "cell_type": "code",
      "metadata": {
        "id": "beKVZcDvIGGm"
      },
      "source": [
        "plt.plot(range(7035),lrs)"
      ],
      "execution_count": null,
      "outputs": []
    }
  ]
}