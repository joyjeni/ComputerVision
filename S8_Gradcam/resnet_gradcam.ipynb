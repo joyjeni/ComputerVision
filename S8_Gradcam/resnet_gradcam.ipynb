{
  "nbformat": 4,
  "nbformat_minor": 0,
  "metadata": {
    "accelerator": "GPU",
    "colab": {
      "name": "resnet_gradcam.ipynb",
      "provenance": []
    },
    "kernelspec": {
      "display_name": "Python 3",
      "name": "python3"
    },
    "language_info": {
      "name": "python"
    }
  },
  "cells": [
    {
      "cell_type": "code",
      "metadata": {
        "colab": {
          "base_uri": "https://localhost:8080/"
        },
        "id": "bxlONZHaCVyW",
        "outputId": "559ba269-21da-4298-d397-213889ea48c0"
      },
      "source": [
        "from google.colab import drive\n",
        "\n",
        "drive.mount('/content/drive')"
      ],
      "execution_count": 1,
      "outputs": [
        {
          "output_type": "stream",
          "text": [
            "Drive already mounted at /content/drive; to attempt to forcibly remount, call drive.mount(\"/content/drive\", force_remount=True).\n"
          ],
          "name": "stdout"
        }
      ]
    },
    {
      "cell_type": "markdown",
      "metadata": {
        "id": "vpIDly4oC9J6"
      },
      "source": [
        ""
      ]
    },
    {
      "cell_type": "code",
      "metadata": {
        "id": "KhV_ksukCgjG"
      },
      "source": [
        "import os\n",
        "\n",
        "path = '/content/drive/MyDrive/AI/CIFAR/'"
      ],
      "execution_count": 2,
      "outputs": []
    },
    {
      "cell_type": "code",
      "metadata": {
        "id": "bOYUFpq5Chg_"
      },
      "source": [
        ""
      ],
      "execution_count": 2,
      "outputs": []
    },
    {
      "cell_type": "code",
      "metadata": {
        "id": "Lt_kjvmTIkzv"
      },
      "source": [
        "import torch\n",
        "import torch.nn as nn\n",
        "import torchvision\n",
        "import torchvision.transforms as transforms\n",
        "import time\n",
        "from torchvision.utils import save_image\n",
        "\n",
        "import numpy as np\n",
        "import pathlib\n"
      ],
      "execution_count": 3,
      "outputs": []
    },
    {
      "cell_type": "code",
      "metadata": {
        "id": "0zak3AaiLrEg"
      },
      "source": [
        "import matplotlib.pyplot as plt\n",
        "%matplotlib inline"
      ],
      "execution_count": 4,
      "outputs": []
    },
    {
      "cell_type": "code",
      "metadata": {
        "id": "KjNCVzXY_xip"
      },
      "source": [
        "pop_mean = []\n",
        "pop_std = []"
      ],
      "execution_count": 5,
      "outputs": []
    },
    {
      "cell_type": "code",
      "metadata": {
        "id": "CBX4Nd3vDwOq"
      },
      "source": [
        "# Device configuration\n",
        "device = torch.device('cuda' if torch.cuda.is_available() else 'cpu')\n",
        "\n",
        "# Hyper-parameters\n",
        "num_epochs = 20\n",
        "batch_size = 100\n",
        "learning_rate = 0.001\n"
      ],
      "execution_count": 6,
      "outputs": []
    },
    {
      "cell_type": "code",
      "metadata": {
        "id": "OvxCWuoKGGqH"
      },
      "source": [
        "pathlib.Path('./missclassified_img/').mkdir(parents=True, exist_ok=True) # Make dir if doesn't exist"
      ],
      "execution_count": 7,
      "outputs": []
    },
    {
      "cell_type": "code",
      "metadata": {
        "id": "UE-KCKN-AqH8",
        "colab": {
          "base_uri": "https://localhost:8080/"
        },
        "outputId": "6750c24e-b276-475e-a948-4b8deaffa3f5"
      },
      "source": [
        "!pwd"
      ],
      "execution_count": 8,
      "outputs": [
        {
          "output_type": "stream",
          "text": [
            "/content\n"
          ],
          "name": "stdout"
        }
      ]
    },
    {
      "cell_type": "code",
      "metadata": {
        "id": "xczJ0IfqFuHj"
      },
      "source": [
        "misclassified_path=\"./missclassified_img/\""
      ],
      "execution_count": 9,
      "outputs": []
    },
    {
      "cell_type": "code",
      "metadata": {
        "id": "3lO1QDYc97bh"
      },
      "source": [
        "classes = ('airplane', 'car', 'bird', 'cat',\n",
        "           'deer', 'dog', 'frog', 'horse', 'ship', 'truck')"
      ],
      "execution_count": 10,
      "outputs": []
    },
    {
      "cell_type": "code",
      "metadata": {
        "colab": {
          "base_uri": "https://localhost:8080/"
        },
        "id": "FWSRaLpWIonC",
        "outputId": "23b94319-0bad-49f1-d56e-cfdd79c53440"
      },
      "source": [
        "\n",
        "\n",
        "# CIFAR-10 dataset\n",
        "\n",
        "dataset=torchvision.datasets.CIFAR10(root='./data/',\n",
        "                                             train=True,                                            \n",
        "                                             download=True,\n",
        "                                             transform=transforms.ToTensor()\n",
        "                                          )\n",
        "data_loader = torch.utils.data.DataLoader(dataset, \n",
        "                                         batch_size=16,\n",
        "                                         shuffle=True, \n",
        "                                         num_workers=2)"
      ],
      "execution_count": 11,
      "outputs": [
        {
          "output_type": "stream",
          "text": [
            "Files already downloaded and verified\n"
          ],
          "name": "stdout"
        }
      ]
    },
    {
      "cell_type": "markdown",
      "metadata": {
        "id": "aY9L_2c9-q_f"
      },
      "source": [
        "### Find Normalization Values"
      ]
    },
    {
      "cell_type": "code",
      "metadata": {
        "id": "YXMJb7bE-p3D"
      },
      "source": [
        "for i, data in enumerate(data_loader,0):\n",
        "    \n",
        "    # shape (batch_size, 3, height, width)\n",
        "    numpy_image = data[0].numpy() \n",
        "    \n",
        "    # shape (3,)\n",
        "    batch_mean = np.mean(numpy_image, axis=(0, 2, 3))\n",
        "    batch_std = np.std(numpy_image, axis=(0, 2, 3))\n",
        "    \n",
        "    pop_mean.append(batch_mean)\n",
        "    pop_std.append(batch_std)"
      ],
      "execution_count": 12,
      "outputs": []
    },
    {
      "cell_type": "code",
      "metadata": {
        "id": "H2pPU4Nd-iDJ"
      },
      "source": [
        "pop_mean = np.array(pop_mean)\n",
        "pop_std = np.array(pop_std)"
      ],
      "execution_count": 13,
      "outputs": []
    },
    {
      "cell_type": "code",
      "metadata": {
        "colab": {
          "base_uri": "https://localhost:8080/"
        },
        "id": "W2fyi6Sa-8dm",
        "outputId": "79983c43-1204-4643-db41-5047bd9cb158"
      },
      "source": [
        "pop_mean.shape, pop_std.shape"
      ],
      "execution_count": 14,
      "outputs": [
        {
          "output_type": "execute_result",
          "data": {
            "text/plain": [
              "((3125, 3), (3125, 3))"
            ]
          },
          "metadata": {
            "tags": []
          },
          "execution_count": 14
        }
      ]
    },
    {
      "cell_type": "code",
      "metadata": {
        "id": "eSA_1WeZ--b-"
      },
      "source": [
        "pop_mean = pop_mean.mean(axis=0)\n",
        "pop_std = pop_std.mean(axis=0)"
      ],
      "execution_count": 15,
      "outputs": []
    },
    {
      "cell_type": "code",
      "metadata": {
        "colab": {
          "base_uri": "https://localhost:8080/"
        },
        "id": "u2s_Op8t--sq",
        "outputId": "9ef00dd7-19d8-4172-9293-94362ac64c50"
      },
      "source": [
        "print(pop_mean)\n",
        "print(pop_std)"
      ],
      "execution_count": 16,
      "outputs": [
        {
          "output_type": "stream",
          "text": [
            "[0.49139997 0.48215848 0.44653118]\n",
            "[0.2443028  0.24080025 0.25811765]\n"
          ],
          "name": "stdout"
        }
      ]
    },
    {
      "cell_type": "code",
      "metadata": {
        "id": "VkDk3o9_BpIx"
      },
      "source": [
        ""
      ],
      "execution_count": 16,
      "outputs": []
    },
    {
      "cell_type": "markdown",
      "metadata": {
        "id": "oOwzlXvFBqAO"
      },
      "source": [
        "### Normalize dataset"
      ]
    },
    {
      "cell_type": "code",
      "metadata": {
        "colab": {
          "base_uri": "https://localhost:8080/"
        },
        "id": "PPHBxpPgBtTt",
        "outputId": "1af7bdbc-04d2-45c6-a96b-74d0ea56b656"
      },
      "source": [
        "\n",
        "\n",
        "# Image preprocessing modules\n",
        "transform = transforms.Compose([\n",
        "    transforms.Pad(4),\n",
        "    transforms.RandomHorizontalFlip(),\n",
        "    transforms.RandomCrop(32),\n",
        "    transforms.ToTensor(),\n",
        "    transforms.Normalize(pop_mean,pop_std)])\n",
        "\n",
        "test_transform = transforms.Compose([\n",
        "    transforms.Pad(4),\n",
        "    \n",
        "    transforms.ToTensor(),\n",
        "    transforms.Normalize(pop_mean,pop_std)])\n",
        "\n",
        "train_dataset = torchvision.datasets.CIFAR10(root='../../data/',\n",
        "                                             train=True, \n",
        "                                             transform=transform,\n",
        "                                            \n",
        "                                             download=True)\n",
        "\n",
        "test_dataset = torchvision.datasets.CIFAR10(root='../../data/',\n",
        "                                            train=False, \n",
        "                                            transform= test_transform)\n",
        "\n",
        "\n",
        "# Data loader\n",
        "train_loader = torch.utils.data.DataLoader(dataset=train_dataset,\n",
        "                                           batch_size=batch_size,\n",
        "                                           shuffle=True)\n",
        "\n",
        "test_loader = torch.utils.data.DataLoader(dataset=test_dataset,\n",
        "                                          batch_size=batch_size,\n",
        "                                          shuffle=False)"
      ],
      "execution_count": 17,
      "outputs": [
        {
          "output_type": "stream",
          "text": [
            "Files already downloaded and verified\n"
          ],
          "name": "stdout"
        }
      ]
    },
    {
      "cell_type": "code",
      "metadata": {
        "id": "1dzFjU1prt32"
      },
      "source": [
        ""
      ],
      "execution_count": 17,
      "outputs": []
    },
    {
      "cell_type": "code",
      "metadata": {
        "id": "sbKoujjlIsep"
      },
      "source": [
        "def conv3x3(in_channels, out_channels, stride=1):\n",
        "     #padding =1 to preserve input shape = output shape\n",
        "     # stride <- et as ip as we do downsampling also\n",
        "    return nn.Conv2d(in_channels, out_channels, kernel_size=3, stride=stride, padding=1, bias=False)\n",
        "\n",
        "\n",
        "\n",
        "\n",
        "class ResidualBlock(nn.Module):\n",
        "    def __init__(self, in_channels, out_channels, stride=1, downsample=None):\n",
        "        super(ResidualBlock, self).__init__() # inherit everything from nn.Module\n",
        "        self.conv1 = conv3x3(in_channels, out_channels, stride)\n",
        "        self.bn1 = nn.BatchNorm2d(out_channels) # Apply bn to each output channels\n",
        "        self.relu = nn.ReLU(inplace=True)\n",
        "        self.conv2 = conv3x3(out_channels, out_channels)\n",
        "        self.bn2 = nn.BatchNorm2d(out_channels)\n",
        "        self.downsample = downsample # Check if there is a downsampling layer\n",
        "        \n",
        "    def forward(self, x): # input image first time. Next time onwards feature maps\n",
        "        residual = x\n",
        "        out = self.conv1(x)\n",
        "        out = self.bn1(out)\n",
        "        out = self.relu(out)\n",
        "        out = self.conv2(out)\n",
        "        out = self.bn2(out)\n",
        "        if self.downsample:\n",
        "            residual = self.downsample(x)\n",
        "        out += residual # Output = Output + residual\n",
        "        out = self.relu(out)\n",
        "        return out\n",
        "\n",
        "\n"
      ],
      "execution_count": 18,
      "outputs": []
    },
    {
      "cell_type": "code",
      "metadata": {
        "id": "ndax0BKpIshx"
      },
      "source": [
        "class ResNet(nn.Module):\n",
        "    def __init__(self, block, layers, num_classes=10): \n",
        "        \"\"\"\n",
        "        layers wil be a list: [2,2,2] # There are 3 layers.  2 blocks for each layers\n",
        "        \"\"\"\n",
        "\n",
        "        super(ResNet, self).__init__()\n",
        "        self.in_channels = 16 # 16 kernels used first time\n",
        "        self.conv = conv3x3(3, 16) # input channels, output channels\n",
        "        self.bn = nn.BatchNorm2d(16) # dim is conv output feature map size\n",
        "        self.relu = nn.ReLU(inplace=True)\n",
        "        self.layer1 = self.make_layer(block, 16, layers[0])\n",
        "        \n",
        "        self.layer2 = self.make_layer(block, 32, layers[1], 2)\n",
        "        \n",
        "        self.layer3 = self.make_layer(block, 64, layers[2], 2)\n",
        "       \n",
        " \n",
        "        self.avg_pool = nn.AvgPool2d(8)\n",
        "        self.fc = nn.Linear(64, num_classes)\n",
        "        \n",
        "    def make_layer(self, block, out_channels, blocks, stride=1):\n",
        "        downsample = None\n",
        "        if (stride != 1) or (self.in_channels != out_channels):\n",
        "            downsample = nn.Sequential(conv3x3(self.in_channels, out_channels, stride=stride),\n",
        "                                       nn.BatchNorm2d(out_channels))\n",
        "        layers = []\n",
        "        layers.append(block(self.in_channels, out_channels, stride, downsample))\n",
        "        self.in_channels = out_channels\n",
        "        for i in range(1, blocks):\n",
        "            layers.append(block(out_channels, out_channels))\n",
        "        return nn.Sequential(*layers)\n",
        "    \n",
        "    def forward(self, x):\n",
        "        out = self.conv(x)\n",
        "        out = self.bn(out)\n",
        "        out = self.relu(out)\n",
        "        out = self.layer1(out)\n",
        "        self.after_layer1=out\n",
        "        out = self.layer2(out)\n",
        "        self.after_layer2=out\n",
        "        out = self.layer3(out)\n",
        "        self.after_layer3=out\n",
        "        out = self.avg_pool(out)\n",
        "        out = out.view(out.size(0), -1)\n",
        "        out = self.fc(out)\n",
        "        return out\n"
      ],
      "execution_count": 19,
      "outputs": []
    },
    {
      "cell_type": "code",
      "metadata": {
        "id": "gaHXF9v0Isk4"
      },
      "source": [
        "model = ResNet(ResidualBlock, [2, 2, 2]).to(device)\n",
        "criterion = nn.CrossEntropyLoss()\n",
        "optimizer = torch.optim.Adam(model.parameters(), lr=learning_rate,weight_decay=0.005)\n",
        "\n"
      ],
      "execution_count": 20,
      "outputs": []
    },
    {
      "cell_type": "code",
      "metadata": {
        "id": "5Lew0vGa0pb-"
      },
      "source": [
        "def train(epoch):\n",
        "    decay = 0.0\n",
        "    correct=0\n",
        "    total=0.0\n",
        "    accuracy=0.0\n",
        "    \n",
        "    model.train()\n",
        "  # Decay the learning rate every 20 epochs\n",
        "    if (epoch+1) % 20 == 0:\n",
        "        decay+=1\n",
        "        optimizer.param_groups[0]['lr'] = learning_rate * (0.5**decay)\n",
        "        print(\"The new learning rate is {}\".format(optimizer.param_groups[0]['lr']))\n",
        "        \n",
        "    for i, (images, labels) in enumerate(train_loader):\n",
        "        images = images.to(device)\n",
        "        labels = labels.to(device)\n",
        "        logps = model(images)\n",
        "        batch_loss = criterion(logps, labels)\n",
        "        optimizer.zero_grad()\n",
        "        batch_loss.backward()\n",
        "        optimizer.step()\n",
        "        \n",
        "        train_losses.append(batch_loss.item())\n",
        "        _, predicted = torch.max(logps.data, 1)\n",
        "        total += labels.size(0)\n",
        "        correct += (predicted == labels).sum().item()\n",
        "        accuracy=100*correct/total\n",
        "        train_accuracy.append(accuracy)\n",
        "    print (\"Epoch [{}/{}], Step [{}/{}] Loss: {:.4f}, Accuracy {:4f}\"\n",
        "        .format(epoch+1, num_epochs, i+1, len(train_loader), batch_loss.item(),accuracy))\n",
        "\n",
        "  \n"
      ],
      "execution_count": 21,
      "outputs": []
    },
    {
      "cell_type": "code",
      "metadata": {
        "id": "O-bBpuv61J7o"
      },
      "source": [
        "def test(epoch):\n",
        "  \n",
        "  model.eval()\n",
        "  with torch.no_grad():\n",
        "    correct = 0\n",
        "    total = 0\n",
        "    accuracy=0\n",
        "    count=0\n",
        "    \n",
        "    for images, labels in test_loader:\n",
        "        count+=1\n",
        "        images = images.to(device)\n",
        "        labels = labels.to(device)\n",
        "        logps = model(images)\n",
        "        loss = criterion(logps, labels)\n",
        "        _, predicted = torch.max(logps.data, 1)\n",
        "        total += labels.size(0)\n",
        "        correct += (predicted == labels).sum().item()\n",
        "        accuracy=100*correct/total\n",
        "        test_losses.append(loss.item())\n",
        "        test_accuracy.append(accuracy)\n",
        "        idxs_mask = ((predicted == labels) == False).nonzero()\n",
        "        if (idxs_mask[-1] >0):\n",
        "          incorrect_examples.append(images[idxs_mask].cpu().numpy())\n",
        "          incorrect_labels.append(labels[idxs_mask].cpu().numpy())\n",
        "          incorrect_prediction.append(predicted[idxs_mask].cpu().numpy())\n",
        "          filename=misclassified_path+str(count)+'.png'\n",
        "          save_image(images,filename)\n",
        "          pred.append(pred)\n",
        "          target.append(labels)\n",
        "          \n",
        "    print('Accuracy of the model on the test images: {} %'.format(accuracy))\n"
      ],
      "execution_count": 26,
      "outputs": []
    },
    {
      "cell_type": "code",
      "metadata": {
        "id": "6BIk7CQwKSWV"
      },
      "source": [
        ""
      ],
      "execution_count": 26,
      "outputs": []
    },
    {
      "cell_type": "code",
      "metadata": {
        "id": "fWTd-jmkKXtt"
      },
      "source": [
        ""
      ],
      "execution_count": 26,
      "outputs": []
    },
    {
      "cell_type": "code",
      "metadata": {
        "id": "H2eLDQFIIsn5",
        "colab": {
          "base_uri": "https://localhost:8080/"
        },
        "outputId": "48183c29-6517-437f-8c4d-d64696a71d5f"
      },
      "source": [
        "start=time.time()\n",
        "incorrect_examples = []\n",
        "incorrect_labels=[]\n",
        "incorrect_prediction=[]\n",
        "pred=[]\n",
        "target=[]\n",
        "train_losses=[]\n",
        "train_accuracy=[]\n",
        "\n",
        "test_losses=[]\n",
        "test_accuracy=[]\n",
        "\n",
        "for epoch in range(num_epochs):\n",
        "\n",
        "  train(epoch)   \n",
        "  test(epoch)\n",
        "    \n",
        "\n",
        "elapsed=time.time()-start\n",
        "print(elapsed,\"seconds\")    \n",
        "print(elapsed/60,\"minutes\")       "
      ],
      "execution_count": 27,
      "outputs": [
        {
          "output_type": "stream",
          "text": [
            "Epoch [1/20], Step [500/500] Loss: 1.0141, Accuracy 65.788000\n",
            "Accuracy of the model on the test images: 61.44 %\n",
            "Epoch [2/20], Step [500/500] Loss: 0.9224, Accuracy 69.510000\n",
            "Accuracy of the model on the test images: 69.48 %\n",
            "Epoch [3/20], Step [500/500] Loss: 0.8513, Accuracy 71.746000\n",
            "Accuracy of the model on the test images: 68.21 %\n",
            "Epoch [4/20], Step [500/500] Loss: 0.6809, Accuracy 73.280000\n",
            "Accuracy of the model on the test images: 63.64 %\n",
            "Epoch [5/20], Step [500/500] Loss: 0.6233, Accuracy 74.446000\n",
            "Accuracy of the model on the test images: 73.09 %\n",
            "Epoch [6/20], Step [500/500] Loss: 0.7858, Accuracy 75.684000\n",
            "Accuracy of the model on the test images: 70.48 %\n",
            "Epoch [7/20], Step [500/500] Loss: 0.8014, Accuracy 76.194000\n",
            "Accuracy of the model on the test images: 69.43 %\n",
            "Epoch [8/20], Step [500/500] Loss: 0.5962, Accuracy 76.854000\n",
            "Accuracy of the model on the test images: 74.45 %\n",
            "Epoch [9/20], Step [500/500] Loss: 0.7536, Accuracy 77.372000\n",
            "Accuracy of the model on the test images: 72.36 %\n",
            "Epoch [10/20], Step [500/500] Loss: 0.6510, Accuracy 77.594000\n",
            "Accuracy of the model on the test images: 72.0 %\n",
            "Epoch [11/20], Step [500/500] Loss: 0.4812, Accuracy 78.126000\n",
            "Accuracy of the model on the test images: 69.62 %\n",
            "Epoch [12/20], Step [500/500] Loss: 0.7124, Accuracy 78.196000\n",
            "Accuracy of the model on the test images: 74.63 %\n",
            "Epoch [13/20], Step [500/500] Loss: 0.6463, Accuracy 78.558000\n",
            "Accuracy of the model on the test images: 70.96 %\n",
            "Epoch [14/20], Step [500/500] Loss: 0.5820, Accuracy 78.930000\n",
            "Accuracy of the model on the test images: 74.26 %\n",
            "Epoch [15/20], Step [500/500] Loss: 0.6835, Accuracy 79.098000\n",
            "Accuracy of the model on the test images: 72.6 %\n",
            "Epoch [16/20], Step [500/500] Loss: 0.5211, Accuracy 79.532000\n",
            "Accuracy of the model on the test images: 77.03 %\n",
            "Epoch [17/20], Step [500/500] Loss: 0.6501, Accuracy 79.002000\n",
            "Accuracy of the model on the test images: 72.36 %\n",
            "Epoch [18/20], Step [500/500] Loss: 0.7354, Accuracy 79.234000\n",
            "Accuracy of the model on the test images: 77.09 %\n",
            "Epoch [19/20], Step [500/500] Loss: 0.5293, Accuracy 79.528000\n",
            "Accuracy of the model on the test images: 78.12 %\n",
            "The new learning rate is 0.0005\n",
            "Epoch [20/20], Step [500/500] Loss: 0.4961, Accuracy 82.556000\n",
            "Accuracy of the model on the test images: 81.86 %\n",
            "580.2889807224274 seconds\n",
            "9.671483012040456 minutes\n"
          ],
          "name": "stdout"
        }
      ]
    },
    {
      "cell_type": "markdown",
      "metadata": {
        "id": "h3UBbjg738Iv"
      },
      "source": [
        ""
      ]
    },
    {
      "cell_type": "code",
      "metadata": {
        "id": "Wczkh3WqwaXY",
        "colab": {
          "base_uri": "https://localhost:8080/",
          "height": 500
        },
        "outputId": "d2ba119c-cc1c-46ce-9b41-f3b75620cb33"
      },
      "source": [
        "fig = plt.figure(figsize=(20, 8))\n",
        "\n",
        "for idx in np.arange(10):\n",
        "    ax = fig.add_subplot(2, 10/2, idx+1, xticks=[], yticks=[])\n",
        "    std = np.array([0.229, 0.224, 0.225])\n",
        "    mean = np.array([0.485, 0.456, 0.406])\n",
        "    img = incorrect_examples[idx][idx]\n",
        "   \n",
        "    img = img/2 + 0.5\n",
        "    img = np.clip(img, 0, 1)\n",
        "    img = img[0, :,:,:].transpose(1,2,0)\n",
        "    #print(img.shape)\n",
        "    plt.imshow(img)\n",
        "    incorrect_label_idx=incorrect_labels[idx][idx][0]\n",
        "\n",
        "   # print(incorrect_label_idx)\n",
        "    #print(\"predicted:\",classes(incorrect_labels[idx][idx][0]))\n",
        "   # print(\"Actual\",classes[incorrect_label_idx])\n",
        "    ax.set_title(f'P:{classes[incorrect_prediction[idx][idx][0]]} \\nA:{classes[incorrect_label_idx]}', fontsize=20,color='green')\n",
        "   \n",
        "    plt.imshow(img)\n",
        "\n"
      ],
      "execution_count": 45,
      "outputs": [
        {
          "output_type": "display_data",
          "data": {
            "image/png": "[encoded data removed]",
            "text/plain": [
              "<Figure size 1440x576 with 10 Axes>"
            ]
          },
          "metadata": {
            "tags": []
          }
        }
      ]
    },
    {
      "cell_type": "code",
      "metadata": {
        "id": "zZpk0boqiaC5"
      },
      "source": [
        ""
      ],
      "execution_count": null,
      "outputs": []
    },
    {
      "cell_type": "code",
      "metadata": {
        "id": "Z2HN8a8UgniG"
      },
      "source": [
        ""
      ],
      "execution_count": null,
      "outputs": []
    },
    {
      "cell_type": "code",
      "metadata": {
        "id": "-MYkRAibevRm",
        "colab": {
          "base_uri": "https://localhost:8080/"
        },
        "outputId": "c6f1870a-50d9-45e4-d2b8-077630f6ebc7"
      },
      "source": [
        "!pip install pytorch-gradcam"
      ],
      "execution_count": 46,
      "outputs": [
        {
          "output_type": "stream",
          "text": [
            "Requirement already satisfied: pytorch-gradcam in /usr/local/lib/python3.7/dist-packages (0.2.1)\n",
            "Requirement already satisfied: opencv-python in /usr/local/lib/python3.7/dist-packages (from pytorch-gradcam) (4.1.2.30)\n",
            "Requirement already satisfied: numpy in /usr/local/lib/python3.7/dist-packages (from pytorch-gradcam) (1.19.5)\n"
          ],
          "name": "stdout"
        }
      ]
    },
    {
      "cell_type": "code",
      "metadata": {
        "id": "w4UCAUcAeZq7"
      },
      "source": [
        "import os\n",
        "import PIL\n",
        "import torch\n",
        "import numpy as np\n",
        "from torchvision import transforms\n",
        "from torchvision.utils import make_grid, save_image\n",
        "\n",
        "from gradcam.utils import visualize_cam\n",
        "from gradcam import GradCAM, GradCAMpp\n",
        "device = 'cuda' if torch.cuda.is_available() else 'cpu'\n",
        "\n",
        "def grad_cam(img, model, layer):\n",
        "\tconfigs = [dict(model_type='resnet', arch=model, layer_name=layer)]\n",
        "\t\n",
        "\tfor config in configs:\n",
        "\t\tconfig['arch'].to(device).eval()\n",
        "\t\n",
        "\ttorch_img = transforms.Compose([transforms.ToTensor()])(img).to(device)\n",
        "\tnormed_torch_img = transforms.Normalize([0.485, 0.456, 0.406], [0.229, 0.224, 0.225])(torch_img)[None]\n",
        "\t\n",
        "\tcams = [[cls.from_config(**config) for cls in (GradCAM, GradCAMpp)] for config in configs]\t\n",
        "\n",
        "\timages = []\n",
        "\tfor gradcam, gradcam_pp in cams:\n",
        "\t\tmask, _ = gradcam(normed_torch_img)\n",
        "\t\theatmap, result = visualize_cam(mask, torch_img)\n",
        "\n",
        "\t\tmask_pp, _ = gradcam_pp(normed_torch_img)\n",
        "\t\theatmap_pp, result_pp = visualize_cam(mask_pp, torch_img)\n",
        "\n",
        "\t\timages.extend([torch_img.cpu(), heatmap, heatmap_pp, result, result_pp])\n",
        "\n",
        "\treturn images"
      ],
      "execution_count": 47,
      "outputs": []
    },
    {
      "cell_type": "code",
      "metadata": {
        "id": "keKsIaldRqwF",
        "colab": {
          "base_uri": "https://localhost:8080/",
          "height": 562
        },
        "outputId": "6cf0179c-e806-4981-a0c9-d73ed3b8531b"
      },
      "source": [
        "#from utils.gradcam import grad_cam\n",
        "\n",
        "fig = plt.figure(figsize=(20, 8))\n",
        "\n",
        "for idx in np.arange(10):\n",
        "    ax = fig.add_subplot(2, 10/2, idx+1, xticks=[], yticks=[])\n",
        "    img=test_dataset.data[incorrect_labels[idx][idx][0]]\n",
        "    labels=test_dataset.targets[incorrect_labels[idx][idx][0]]\n",
        "    layer= 'layer3'\n",
        "\n",
        "    cam = grad_cam(img, model, layer)\n",
        "    cam = torch.stack(cam)[4]\n",
        "    cam = np.transpose(cam, (1, 2, 0))\n",
        "    plt.axis(\"off\")\n",
        "    #plt.title(classes[incorrect_labels[idx][idx][0]])\n",
        "    plt.title(classes[labels])\n",
        "    plt.imshow(cam)"
      ],
      "execution_count": 54,
      "outputs": [
        {
          "output_type": "stream",
          "text": [
            "/usr/local/lib/python3.7/dist-packages/torch/nn/modules/module.py:974: UserWarning: Using a non-full backward hook when the forward contains multiple autograd Nodes is deprecated and will be removed in future versions. This hook will be missing some grad_input. Please use register_full_backward_hook to get the documented behavior.\n",
            "  warnings.warn(\"Using a non-full backward hook when the forward contains multiple autograd Nodes \"\n",
            "/usr/local/lib/python3.7/dist-packages/torch/nn/functional.py:3487: UserWarning: nn.functional.upsample is deprecated. Use nn.functional.interpolate instead.\n",
            "  warnings.warn(\"nn.functional.upsample is deprecated. Use nn.functional.interpolate instead.\")\n"
          ],
          "name": "stderr"
        },
        {
          "output_type": "display_data",
          "data": {
            "image/png": "[encoded data removed]",
            "text/plain": [
              "<Figure size 1440x576 with 10 Axes>"
            ]
          },
          "metadata": {
            "tags": []
          }
        }
      ]
    },
    {
      "cell_type": "code",
      "metadata": {
        "id": "Cy3EQebLRnyV"
      },
      "source": [
        ""
      ],
      "execution_count": null,
      "outputs": []
    },
    {
      "cell_type": "code",
      "metadata": {
        "id": "h0GVzyvKRn1_"
      },
      "source": [
        ""
      ],
      "execution_count": null,
      "outputs": []
    },
    {
      "cell_type": "code",
      "metadata": {
        "id": "BsQk0SRZCeDE"
      },
      "source": [
        ""
      ],
      "execution_count": null,
      "outputs": []
    },
    {
      "cell_type": "code",
      "metadata": {
        "id": "Cr3zgh3OI_U8"
      },
      "source": [
        "\n",
        "!pip install torchsummary\n",
        "from torchsummary import summary\n",
        "summary(model, input_size=(3, 32, 32))"
      ],
      "execution_count": null,
      "outputs": []
    },
    {
      "cell_type": "markdown",
      "metadata": {
        "id": "24wD2vhMt3Z6"
      },
      "source": [
        "### Visualizing CNN"
      ]
    },
    {
      "cell_type": "code",
      "metadata": {
        "id": "H9ZXSWvlnr7e"
      },
      "source": [
        "images_batch, labels_batch = iter(train_loader).next()"
      ],
      "execution_count": null,
      "outputs": []
    },
    {
      "cell_type": "code",
      "metadata": {
        "id": "D7o1mYUgwqWJ"
      },
      "source": [
        "images_batch.shape"
      ],
      "execution_count": null,
      "outputs": []
    },
    {
      "cell_type": "code",
      "metadata": {
        "id": "VCsvF8sA186j"
      },
      "source": [
        "labels_batch.shape"
      ],
      "execution_count": null,
      "outputs": []
    },
    {
      "cell_type": "code",
      "metadata": {
        "id": "rp80Pm7M2Iai"
      },
      "source": [
        "img = torchvision.utils.make_grid(images_batch)\n",
        "img.shape"
      ],
      "execution_count": null,
      "outputs": []
    },
    {
      "cell_type": "code",
      "metadata": {
        "id": "FJ3gILBs2Owf"
      },
      "source": [
        "img = np.transpose(img, (1, 2, 0))\n",
        "img.shape"
      ],
      "execution_count": null,
      "outputs": []
    },
    {
      "cell_type": "code",
      "metadata": {
        "id": "_v3dAV616jx2"
      },
      "source": [
        "m, M = img.min(), img.max()\n",
        "\n",
        "m, M"
      ],
      "execution_count": null,
      "outputs": []
    },
    {
      "cell_type": "code",
      "metadata": {
        "id": "05AaJaZX2PaD"
      },
      "source": [
        "#img = (1/(abs(m) * M)) * img + 0.5 "
      ],
      "execution_count": null,
      "outputs": []
    },
    {
      "cell_type": "code",
      "metadata": {
        "id": "dK3RaaP26dpb"
      },
      "source": [
        "img"
      ],
      "execution_count": null,
      "outputs": []
    },
    {
      "cell_type": "code",
      "metadata": {
        "id": "ZtnaJKUx6oMc"
      },
      "source": [
        "plt.figure (figsize = (16, 12))\n",
        "plt.imshow(img)\n",
        "plt.title(labels)\n",
        "plt.axis(\"off\")\n",
        "plt.show()"
      ],
      "execution_count": null,
      "outputs": []
    },
    {
      "cell_type": "code",
      "metadata": {
        "id": "jfQMKA-XUV-P"
      },
      "source": [
        "# We need to convert the images to numpy arrays as tensors are not compatible with matplotlib.\n",
        "def im_convert(tensor):  \n",
        "  image = tensor.cpu().clone().detach().numpy() # This process will happen in normal cpu.\n",
        "  image = image.transpose(1, 2, 0)\n",
        "  image = image * np.array((0.5, 0.5, 0.5)) + np.array((0.5, 0.5, 0.5))\n",
        "  image = image.clip(0, 1)\n",
        "  return image"
      ],
      "execution_count": null,
      "outputs": []
    },
    {
      "cell_type": "code",
      "metadata": {
        "id": "y-u8NqOqUWEh"
      },
      "source": [
        "classes = ('airplane', 'car', 'bird', 'cat',\n",
        "           'deer', 'dog', 'frog', 'horse', 'ship', 'truck')"
      ],
      "execution_count": null,
      "outputs": []
    },
    {
      "cell_type": "code",
      "metadata": {
        "id": "lCOGtKFSUWIA"
      },
      "source": [
        "# We plot 20 images from our train_dataset\n",
        "for idx in np.arange(20):\n",
        "  ax = figure.add_subplot(2, 10, idx+1, xticks=[], yticks=[]) \n",
        "  ax.set_title(classes[labels[idx].item()])\n",
        "  plt.imshow(im_convert(images[idx])) #converting to numpy array as plt needs it.\n",
        " "
      ],
      "execution_count": null,
      "outputs": []
    },
    {
      "cell_type": "markdown",
      "metadata": {
        "id": "rcRTnxJQg2db"
      },
      "source": [
        ""
      ]
    },
    {
      "cell_type": "markdown",
      "metadata": {
        "id": "h4-zzLptUgU_"
      },
      "source": [
        "### Plot Training VS Validation Loss"
      ]
    },
    {
      "cell_type": "code",
      "metadata": {
        "id": "nRBo2us98_YM",
        "colab": {
          "base_uri": "https://localhost:8080/",
          "height": 283
        },
        "outputId": "46f76cb8-0c98-41ed-f92c-57a4813d7330"
      },
      "source": [
        "plt.style.use('ggplot')\n",
        "plt.plot(train_losses, label='training loss')\n",
        "plt.plot(test_losses, label='validation loss')\n",
        "plt.legend()"
      ],
      "execution_count": 50,
      "outputs": [
        {
          "output_type": "execute_result",
          "data": {
            "text/plain": [
              "<matplotlib.legend.Legend at 0x7fd2ec896350>"
            ]
          },
          "metadata": {
            "tags": []
          },
          "execution_count": 50
        },
        {
          "output_type": "display_data",
          "data": {
            "image/png": "[encoded data removed]",
            "text/plain": [
              "<Figure size 432x288 with 1 Axes>"
            ]
          },
          "metadata": {
            "tags": []
          }
        }
      ]
    },
    {
      "cell_type": "markdown",
      "metadata": {
        "id": "aIfzPvAeUlo2"
      },
      "source": [
        "### Plot Training vs Validation Accuracy"
      ]
    },
    {
      "cell_type": "code",
      "metadata": {
        "id": "sjxBol1YUlPf",
        "colab": {
          "base_uri": "https://localhost:8080/",
          "height": 466
        },
        "outputId": "42cc13ff-c950-44f5-8c50-7966ee5468a1"
      },
      "source": [
        "plt.style.use('ggplot')\n",
        "plt.plot(train_accuracy, label='training accuracy')\n",
        "plt.plot(test_accuracy_corrects_history, label='validation accuracy')\n",
        "plt.legend()"
      ],
      "execution_count": 52,
      "outputs": [
        {
          "output_type": "error",
          "ename": "NameError",
          "evalue": "ignored",
          "traceback": [
            "\u001b[0;31m---------------------------------------------------------------------------\u001b[0m",
            "\u001b[0;31mNameError\u001b[0m                                 Traceback (most recent call last)",
            "\u001b[0;32m<ipython-input-52-d7a28f7e9653>\u001b[0m in \u001b[0;36m<module>\u001b[0;34m()\u001b[0m\n\u001b[1;32m      1\u001b[0m \u001b[0mplt\u001b[0m\u001b[0;34m.\u001b[0m\u001b[0mstyle\u001b[0m\u001b[0;34m.\u001b[0m\u001b[0muse\u001b[0m\u001b[0;34m(\u001b[0m\u001b[0;34m'ggplot'\u001b[0m\u001b[0;34m)\u001b[0m\u001b[0;34m\u001b[0m\u001b[0;34m\u001b[0m\u001b[0m\n\u001b[1;32m      2\u001b[0m \u001b[0mplt\u001b[0m\u001b[0;34m.\u001b[0m\u001b[0mplot\u001b[0m\u001b[0;34m(\u001b[0m\u001b[0mtrain_accuracy\u001b[0m\u001b[0;34m,\u001b[0m \u001b[0mlabel\u001b[0m\u001b[0;34m=\u001b[0m\u001b[0;34m'training accuracy'\u001b[0m\u001b[0;34m)\u001b[0m\u001b[0;34m\u001b[0m\u001b[0;34m\u001b[0m\u001b[0m\n\u001b[0;32m----> 3\u001b[0;31m \u001b[0mplt\u001b[0m\u001b[0;34m.\u001b[0m\u001b[0mplot\u001b[0m\u001b[0;34m(\u001b[0m\u001b[0mtest_accuracy_corrects_history\u001b[0m\u001b[0;34m,\u001b[0m \u001b[0mlabel\u001b[0m\u001b[0;34m=\u001b[0m\u001b[0;34m'validation accuracy'\u001b[0m\u001b[0;34m)\u001b[0m\u001b[0;34m\u001b[0m\u001b[0;34m\u001b[0m\u001b[0m\n\u001b[0m\u001b[1;32m      4\u001b[0m \u001b[0mplt\u001b[0m\u001b[0;34m.\u001b[0m\u001b[0mlegend\u001b[0m\u001b[0;34m(\u001b[0m\u001b[0;34m)\u001b[0m\u001b[0;34m\u001b[0m\u001b[0;34m\u001b[0m\u001b[0m\n",
            "\u001b[0;31mNameError\u001b[0m: name 'test_accuracy_corrects_history' is not defined"
          ]
        },
        {
          "output_type": "display_data",
          "data": {
            "image/png": "[encoded data removed]",
            "text/plain": [
              "<Figure size 432x288 with 1 Axes>"
            ]
          },
          "metadata": {
            "tags": []
          }
        }
      ]
    },
    {
      "cell_type": "markdown",
      "metadata": {
        "id": "rioGkwc1IouS"
      },
      "source": [
        "### Visualizing Filters"
      ]
    },
    {
      "cell_type": "code",
      "metadata": {
        "id": "UmoAJITBIr8I"
      },
      "source": [
        "for inputs,logps in train_loader:\n",
        "  inputs, labels = inputs.to(device), labels.to(device)\n",
        "  figure=plt.figure()\n",
        "  image=inputs[0][0]\n",
        "\n",
        "  figure.add_subplot(3,6,1)\n",
        "  plt.imshow(image)\n",
        "\n",
        "  logps=model(inputs)\n",
        "\n",
        "  layer_1 = model.after_layer1[0].detach()\n",
        "  for i in range(3):\n",
        "    figure.add_subplot(3,6,6+1+i)\n",
        "    plt.imshow(layer_1[i])\n",
        "\n",
        "  layer_2 = model.after_layer2[0].detach()\n",
        "  for i in range(6):\n",
        "    figure.add_subplot(3,6,12+1+i)\n",
        "    plt.imshow(layer_2[i])  \n",
        "plt.show()    \n",
        "\n",
        "\n"
      ],
      "execution_count": null,
      "outputs": []
    }
  ]
}